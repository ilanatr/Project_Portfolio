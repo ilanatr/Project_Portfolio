{
 "cells": [
  {
   "cell_type": "markdown",
   "metadata": {},
   "source": [
    "##### Objective is to develop a python script that filters and organises date based on specific criteria\n",
    "\n",
    "Output: filter data by age, name or other characteristic\n",
    "\n",
    "Requirements:\n",
    "- Use dictionary, list or set\n",
    "- Implement functions that filter data\n",
    "- Accompanying readme file"
   ]
  },
  {
   "cell_type": "code",
   "execution_count": 8,
   "metadata": {},
   "outputs": [],
   "source": [
    "# import pandas\n",
    "import pandas as pd"
   ]
  },
  {
   "cell_type": "code",
   "execution_count": 12,
   "metadata": {},
   "outputs": [],
   "source": [
    "# Simple dataset to use\n",
    "\n",
    "data = [\n",
    "    {\"name\": \"John\", \"age\": 30, \"gender\": \"Male\", \"occupation\": \"Engineer\", \"city\": \"New York\", \"education\": \"Bachelor's Degree\", \"income\": 80000, \"marital_status\": \"Married\", \"children\": 2, \"pets\": \"Dog\", \"hobbies\": [\"Reading\", \"Traveling\"], \"height\": 180, \"weight\": 75, \"ethnicity\": \"Caucasian\", \"religion\": \"Christianity\", \"nationality\": \"American\", \"languages\": [\"English\", \"Spanish\"], \"political_affiliation\": \"Independent\", \"favorite_food\": \"Pizza\", \"favorite_color\": \"Blue\"},\n",
    "    {\"name\": \"Alice\", \"age\": 25, \"gender\": \"Female\", \"occupation\": \"Doctor\", \"city\": \"Los Angeles\", \"education\": \"Doctorate\", \"income\": 120000, \"marital_status\": \"Single\", \"children\": 0, \"pets\": \"Cat\", \"hobbies\": [\"Hiking\", \"Painting\"], \"height\": 165, \"weight\": 55, \"ethnicity\": \"Asian\", \"religion\": \"Buddhism\", \"nationality\": \"American\", \"languages\": [\"English\", \"Chinese\"], \"political_affiliation\": \"Liberal\", \"favorite_food\": \"Sushi\", \"favorite_color\": \"Purple\"},\n",
    "    {\"name\": \"Mohammed\", \"age\": 35, \"gender\": \"Male\", \"occupation\": \"Software Engineer\", \"city\": \"Dubai\", \"education\": \"Master's Degree\", \"income\": 100000, \"marital_status\": \"Married\", \"children\": 1, \"pets\": \"None\", \"hobbies\": [\"Football\", \"Photography\"], \"height\": 175, \"weight\": 80, \"ethnicity\": \"Middle Eastern\", \"religion\": \"Islam\", \"nationality\": \"Emirati\", \"languages\": [\"Arabic\", \"English\"], \"political_affiliation\": \"Conservative\", \"favorite_food\": \"Hummus\", \"favorite_color\": \"Green\"},\n",
    "    {\"name\": \"Sofia\", \"age\": 28, \"gender\": \"Female\", \"occupation\": \"Architect\", \"city\": \"Barcelona\", \"education\": \"Bachelor's Degree\", \"income\": 70000, \"marital_status\": \"Single\", \"children\": 0, \"pets\": \"None\", \"hobbies\": [\"Drawing\", \"Singing\"], \"height\": 170, \"weight\": 60, \"ethnicity\": \"Hispanic\", \"religion\": \"Atheist\", \"nationality\": \"Spanish\", \"languages\": [\"Spanish\", \"English\"], \"political_affiliation\": \"Liberal\", \"favorite_food\": \"Paella\", \"favorite_color\": \"Yellow\"},\n",
    "    {\"name\": \"David\", \"age\": 40, \"gender\": \"Male\", \"occupation\": \"Lawyer\", \"city\": \"London\", \"education\": \"Master's Degree\", \"income\": 90000, \"marital_status\": \"Married\", \"children\": 3, \"pets\": \"Dog\", \"hobbies\": [\"Golf\", \"Cooking\"], \"height\": 185, \"weight\": 85, \"ethnicity\": \"Caucasian\", \"religion\": \"Judaism\", \"nationality\": \"British\", \"languages\": [\"English\", \"Hebrew\"], \"political_affiliation\": \"Moderate\", \"favorite_food\": \"Fish and Chips\", \"favorite_color\": \"Red\"},\n",
    "    {\"name\": \"Aisha\", \"age\": 22, \"gender\": \"Female\", \"occupation\": \"Student\", \"city\": \"Mumbai\", \"education\": \"Bachelor's Degree\", \"income\": 20000, \"marital_status\": \"Single\", \"children\": 0, \"pets\": \"None\", \"hobbies\": [\"Dancing\", \"Reading\"], \"height\": 160, \"weight\": 50, \"ethnicity\": \"Indian\", \"religion\": \"Hinduism\", \"nationality\": \"Indian\", \"languages\": [\"Hindi\", \"English\"], \"political_affiliation\": \"Liberal\", \"favorite_food\": \"Curry\", \"favorite_color\": \"Orange\"},\n",
    "    {\"name\": \"Nadia\", \"age\": 45, \"gender\": \"Female\", \"occupation\": \"Professor\", \"city\": \"Paris\", \"education\": \"PhD\", \"income\": 110000, \"marital_status\": \"Divorced\", \"children\": 2, \"pets\": \"Cat\", \"hobbies\": [\"Writing\", \"Cycling\"], \"height\": 170, \"weight\": 65, \"ethnicity\": \"Caucasian\", \"religion\": \"Agnostic\", \"nationality\": \"French\", \"languages\": [\"French\", \"English\"], \"political_affiliation\": \"Progressive\", \"favorite_food\": \"Croissant\", \"favorite_color\": \"Pink\"},\n",
    "    {\"name\": \"Ali\", \"age\": 33, \"gender\": \"Male\", \"occupation\": \"Entrepreneur\", \"city\": \"Dubai\", \"education\": \"Bachelor's Degree\", \"income\": 150000, \"marital_status\": \"Married\", \"children\": 2, \"pets\": \"Dog\", \"hobbies\": [\"Skiing\", \"Gaming\"], \"height\": 180, \"weight\": 85, \"ethnicity\": \"Middle Eastern\", \"religion\": \"Islam\", \"nationality\": \"Emirati\", \"languages\": [\"Arabic\", \"English\"], \"political_affiliation\": \"Conservative\", \"favorite_food\": \"Shawarma\", \"favorite_color\": \"Black\"},\n",
    "    {\"name\": \"Yuki\", \"age\": 31, \"gender\": \"Female\", \"occupation\": \"Engineer\", \"city\": \"Tokyo\", \"education\": \"Master's Degree\", \"income\": 90000, \"marital_status\": \"Married\", \"children\": 1, \"pets\": \"None\", \"hobbies\": [\"Karate\", \"Cooking\"], \"height\": 165, \"weight\": 55, \"ethnicity\": \"Asian\", \"religion\": \"Shintoism\", \"nationality\": \"Japanese\", \"languages\": [\"Japanese\", \"English\"], \"political_affiliation\": \"Liberal\", \"favorite_food\": \"Sushi\", \"favorite_color\": \"Purple\"},\n",
    "    {\"name\": \"Miguel\", \"age\": 29, \"gender\": \"Male\", \"occupation\": \"Designer\", \"city\": \"Mexico City\", \"education\": \"Bachelor's Degree\", \"income\": 60000, \"marital_status\": \"Single\", \"children\": 0, \"pets\": \"None\", \"hobbies\": [\"Drawing\", \"Traveling\"], \"height\": 175, \"weight\": 70, \"ethnicity\": \"Hispanic\", \"religion\": \"Catholicism\", \"nationality\": \"Mexican\", \"languages\": [\"Spanish\", \"English\"], \"political_affiliation\": \"Moderate\", \"favorite_food\": \"Tacos\", \"favorite_color\": \"Green\"},\n",
    "    {\"name\": \"Sakura\", \"age\": 27, \"gender\": \"Female\", \"occupation\": \"Nurse\", \"city\": \"Tokyo\", \"education\": \"Bachelor's Degree\", \"income\": 50000, \"marital_status\": \"Single\", \"children\": 0, \"pets\": \"Cat\", \"hobbies\": [\"Gardening\", \"Reading\"], \"height\": 160, \"weight\": 50, \"ethnicity\": \"Asian\", \"religion\": \"Buddhism\", \"nationality\": \"Japanese\", \"languages\": [\"Japanese\", \"English\"], \"political_affiliation\": \"Liberal\", \"favorite_food\": \"Ramen\", \"favorite_color\": \"Blue\"},\n",
    "    {\"name\": \"Elena\", \"age\": 38, \"gender\": \"Female\", \"occupation\": \"Accountant\", \"city\": \"Madrid\", \"education\": \"Bachelor's Degree\", \"income\": 80000, \"marital_status\": \"Married\", \"children\": 2, \"pets\": \"Dog\", \"hobbies\": [\"Running\", \"Painting\"], \"height\": 170, \"weight\": 65, \"ethnicity\": \"Hispanic\", \"religion\": \"Christianity\", \"nationality\": \"Spanish\", \"languages\": [\"Spanish\", \"English\"], \"political_affiliation\": \"Conservative\", \"favorite_food\": \"Tapas\", \"favorite_color\": \"Red\"},\n",
    "    {\"name\": \"Andrea\", \"age\": 24, \"gender\": \"Female\", \"occupation\": \"Teacher\", \"city\": \"Rome\", \"education\": \"Bachelor's Degree\", \"income\": 45000, \"marital_status\": \"Single\", \"children\": 0, \"pets\": \"Dog\", \"hobbies\": [\"Singing\", \"Travelling\"], \"height\": 160, \"weight\": 55, \"ethnicity\": \"Caucasian\", \"religion\": \"Atheist\", \"nationality\": \"Italian\", \"languages\": [\"Italian\", \"English\"], \"political_affiliation\": \"Liberal\", \"favorite_food\": \"Pasta\", \"favorite_color\": \"Yellow\"},\n",
    "    {\"name\": \"Carlos\", \"age\": 32, \"gender\": \"Male\", \"occupation\": \"Chef\", \"city\": \"Madrid\", \"education\": \"Bachelor's Degree\", \"income\": 70000, \"marital_status\": \"Married\", \"children\": 1, \"pets\": \"Cat\", \"hobbies\": [\"Cooking\", \"Playing Guitar\"], \"height\": 175, \"weight\": 75, \"ethnicity\": \"Hispanic\", \"religion\": \"Catholicism\", \"nationality\": \"Spanish\", \"languages\": [\"Spanish\", \"English\"], \"political_affiliation\": \"Conservative\", \"favorite_food\": \"Paella\", \"favorite_color\": \"Orange\"},\n",
    "    {\"name\": \"Ravi\", \"age\": 35, \"gender\": \"Male\", \"occupation\": \"Business Analyst\", \"city\": \"Bangalore\", \"education\": \"Master's Degree\", \"income\": 95000, \"marital_status\": \"Married\", \"children\": 2, \"pets\": \"Dog\", \"hobbies\": [\"Cricket\", \"Reading\"], \"height\": 175, \"weight\": 80, \"ethnicity\": \"Indian\", \"religion\": \"Hinduism\", \"nationality\": \"Indian\", \"languages\": [\"Hindi\", \"English\"], \"political_affiliation\": \"Moderate\", \"favorite_food\": \"Biryani\", \"favorite_color\": \"Green\"},\n",
    "    {\"name\": \"Maria\", \"age\": 30, \"gender\": \"Female\", \"occupation\": \"Marketing Manager\", \"city\": \"New York\", \"education\": \"Master's Degree\", \"income\": 110000, \"marital_status\": \"Single\", \"children\": 0, \"pets\": \"Cat\", \"hobbies\": [\"Yoga\", \"Traveling\"], \"height\": 165, \"weight\": 60, \"ethnicity\": \"Caucasian\", \"religion\": \"Atheist\", \"nationality\": \"American\", \"languages\": [\"English\", \"Spanish\"], \"political_affiliation\": \"Liberal\", \"favorite_food\": \"Tacos\", \"favorite_color\": \"Blue\"},\n",
    "    {\"name\": \"Chen\", \"age\": 28, \"gender\": \"Male\", \"occupation\": \"Financial Analyst\", \"city\": \"Shanghai\", \"education\": \"Bachelor's Degree\", \"income\": 80000, \"marital_status\": \"Single\", \"children\": 0, \"pets\": \"None\", \"hobbies\": [\"Photography\", \"Swimming\"], \"height\": 180, \"weight\": 75, \"ethnicity\": \"Asian\", \"religion\": \"Buddhism\", \"nationality\": \"Chinese\", \"languages\": [\"Mandarin\", \"English\"], \"political_affiliation\": \"Liberal\", \"favorite_food\": \"Dumplings\", \"favorite_color\": \"Red\"},\n",
    "    {\"name\": \"Anna\", \"age\": 33, \"gender\": \"Female\", \"occupation\": \"Journalist\", \"city\": \"London\", \"education\": \"Bachelor's Degree\", \"income\": 75000, \"marital_status\": \"Single\", \"children\": 0, \"pets\": \"Dog\", \"hobbies\": [\"Writing\", \"Hiking\"], \"height\": 170, \"weight\": 65, \"ethnicity\": \"Caucasian\", \"religion\": \"Agnostic\", \"nationality\": \"British\", \"languages\": [\"English\", \"French\"], \"political_affiliation\": \"Liberal\", \"favorite_food\": \"Fish and Chips\", \"favorite_color\": \"Yellow\"},\n",
    "    {\"name\": \"Ahmed\", \"age\": 37, \"gender\": \"Male\", \"occupation\": \"Doctor\", \"city\": \"Cairo\", \"education\": \"Doctorate\", \"income\": 120000, \"marital_status\": \"Married\", \"children\": 3, \"pets\": \"Cat\", \"hobbies\": [\"Football\", \"Painting\"], \"height\": 175, \"weight\": 75, \"ethnicity\": \"Middle Eastern\", \"religion\": \"Islam\", \"nationality\": \"Egyptian\", \"languages\": [\"Arabic\", \"English\"], \"political_affiliation\": \"Conservative\", \"favorite_food\": \"Kebab\", \"favorite_color\": \"Green\"},\n",
    "    {\"name\": \"Yasmin\", \"age\": 29, \"gender\": \"Female\", \"occupation\": \"Software Engineer\", \"city\": \"Bangalore\", \"education\": \"Master's Degree\", \"income\": 90000, \"marital_status\": \"Single\", \"children\": 0, \"pets\": \"Dog\", \"hobbies\": [\"Reading\", \"Cooking\"], \"height\": 160, \"weight\": 55, \"ethnicity\": \"Indian\", \"religion\": \"Hinduism\", \"nationality\": \"Indian\", \"languages\": [\"English\", \"Hindi\"], \"political_affiliation\": \"Liberal\", \"favorite_food\": \"Pav Bhaji\", \"favorite_color\": \"Purple\"},\n",
    "    {\"name\": \"Isabella\", \"age\": 26, \"gender\": \"Female\", \"occupation\": \"Graphic Designer\", \"city\": \"Milan\", \"education\": \"Bachelor's Degree\", \"income\": 65000, \"marital_status\": \"Single\", \"children\": 0, \"pets\": \"Cat\", \"hobbies\": [\"Drawing\", \"Traveling\"], \"height\": 165, \"weight\": 60, \"ethnicity\": \"Caucasian\", \"religion\": \"Atheist\", \"nationality\": \"Italian\", \"languages\": [\"Italian\", \"English\"], \"political_affiliation\": \"Liberal\", \"favorite_food\": \"Pizza\", \"favorite_color\": \"Blue\"},\n",
    "    {\"name\": \"Kaito\", \"age\": 30, \"gender\": \"Male\", \"occupation\": \"Musician\", \"city\": \"Tokyo\", \"education\": \"High School\", \"income\": 60000, \"marital_status\": \"Single\", \"children\": 0, \"pets\": \"Dog\", \"hobbies\": [\"Playing Guitar\", \"Travelling\"], \"height\": 175, \"weight\": 70, \"ethnicity\": \"Asian\", \"religion\": \"Buddhism\", \"nationality\": \"Japanese\", \"languages\": [\"Japanese\", \"English\"], \"political_affiliation\": \"Liberal\", \"favorite_food\": \"Sushi\", \"favorite_color\": \"Black\"},\n",
    "    {\"name\": \"Olga\", \"age\": 40, \"gender\": \"Female\", \"occupation\": \"Teacher\", \"city\": \"Moscow\", \"education\": \"Master's Degree\", \"income\": 70000, \"marital_status\": \"Divorced\", \"children\": 1, \"pets\": \"Dog\", \"hobbies\": [\"Yoga\", \"Reading\"], \"height\": 170, \"weight\": 65, \"ethnicity\": \"Caucasian\", \"religion\": \"Orthodox Christianity\", \"nationality\": \"Russian\", \"languages\": [\"Russian\", \"English\"], \"political_affiliation\": \"Conservative\", \"favorite_food\": \"Borscht\", \"favorite_color\": \"Red\"},\n",
    "    {\"name\": \"Javier\", \"age\": 28, \"gender\": \"Male\", \"occupation\": \"Engineer\", \"city\": \"Madrid\", \"education\": \"Bachelor's Degree\", \"income\": 80000, \"marital_status\": \"Married\", \"children\": 1, \"pets\": \"Cat\", \"hobbies\": [\"Football\", \"Photography\"], \"height\": 180, \"weight\": 80, \"ethnicity\": \"Hispanic\", \"religion\": \"Catholicism\", \"nationality\": \"Spanish\", \"languages\": [\"Spanish\", \"English\"], \"political_affiliation\": \"Conservative\", \"favorite_food\": \"Tapas\", \"favorite_color\": \"Yellow\"}\n",
    "]\n",
    "\n",
    "# Convert to a dictionary\n",
    "df = pd.DataFrame(data)"
   ]
  },
  {
   "cell_type": "code",
   "execution_count": 17,
   "metadata": {},
   "outputs": [
    {
     "name": "stdout",
     "output_type": "stream",
     "text": [
      "0              Engineer\n",
      "1                Doctor\n",
      "2     Software Engineer\n",
      "3             Architect\n",
      "4                Lawyer\n",
      "5               Student\n",
      "6             Professor\n",
      "7          Entrepreneur\n",
      "8              Engineer\n",
      "9              Designer\n",
      "10                Nurse\n",
      "11           Accountant\n",
      "12              Teacher\n",
      "13                 Chef\n",
      "14     Business Analyst\n",
      "15    Marketing Manager\n",
      "16    Financial Analyst\n",
      "17           Journalist\n",
      "18               Doctor\n",
      "19    Software Engineer\n",
      "20     Graphic Designer\n",
      "21             Musician\n",
      "22              Teacher\n",
      "23             Engineer\n",
      "Name: occupation, dtype: object\n"
     ]
    }
   ],
   "source": [
    "# A function that reads the dataset and outputs just the values associated with a specific key \n",
    "\n",
    "def get_values(data, key):\n",
    "    values = data[key]\n",
    "    return values\n",
    "\n",
    "# Test and call function\n",
    "\n",
    "occupation = get_values(df, 'occupation')\n",
    "\n",
    "print(occupation)\n",
    "\n"
   ]
  },
  {
   "cell_type": "code",
   "execution_count": 24,
   "metadata": {},
   "outputs": [
    {
     "name": "stdout",
     "output_type": "stream",
     "text": [
      "occupation\n",
      "Engineer             3\n",
      "Teacher              2\n",
      "Software Engineer    2\n",
      "Doctor               2\n",
      "Graphic Designer     1\n",
      "Journalist           1\n",
      "Financial Analyst    1\n",
      "Marketing Manager    1\n",
      "Business Analyst     1\n",
      "Chef                 1\n",
      "Nurse                1\n",
      "Accountant           1\n",
      "Designer             1\n",
      "Entrepreneur         1\n",
      "Professor            1\n",
      "Student              1\n",
      "Lawyer               1\n",
      "Architect            1\n",
      "Musician             1\n",
      "Name: count, dtype: int64\n",
      "city\n",
      "Tokyo          3\n",
      "Madrid         3\n",
      "New York       2\n",
      "Dubai          2\n",
      "London         2\n",
      "Bangalore      2\n",
      "Los Angeles    1\n",
      "Barcelona      1\n",
      "Mumbai         1\n",
      "Paris          1\n",
      "Mexico City    1\n",
      "Rome           1\n",
      "Shanghai       1\n",
      "Cairo          1\n",
      "Milan          1\n",
      "Moscow         1\n",
      "Name: count, dtype: int64\n"
     ]
    }
   ],
   "source": [
    "# Create a frequency table for each value\n",
    "\n",
    "def grouped_column(data, column_name):\n",
    "    crosstab = data[column_name].value_counts()\n",
    "    return crosstab\n",
    "\n",
    "# Test and call function\n",
    "\n",
    "occupation_tab = grouped_column(df, 'occupation')\n",
    "\n",
    "print(occupation_tab)\n",
    "\n",
    "# Test and call function\n",
    "\n",
    "city_tab = grouped_column(df, 'city')\n",
    "\n",
    "print(city_tab)\n"
   ]
  },
  {
   "cell_type": "code",
   "execution_count": 38,
   "metadata": {},
   "outputs": [
    {
     "name": "stdout",
     "output_type": "stream",
     "text": [
      "      name  age\n",
      "1    Alice   25\n",
      "3    Sofia   28\n",
      "5    Aisha   22\n",
      "9   Miguel   29\n",
      "10  Sakura   27\n",
      "       name  age\n",
      "0      John   30\n",
      "2  Mohammed   35\n",
      "4     David   40\n",
      "6     Nadia   45\n",
      "7       Ali   33\n"
     ]
    }
   ],
   "source": [
    "# Filter the data by specific age ranges and return the individual's name\n",
    "\n",
    "def age_filter(data, age_min, age_max):\n",
    "    age_filtered_data = data[(data['age'] >= age_min) & (data['age'] <= age_max)]\n",
    "    return age_filtered_data[['name', 'age']]\n",
    "\n",
    "# Test and call function\n",
    "\n",
    "under_30s = age_filter(df, 0, 29)\n",
    "\n",
    "print(under_30s.head())\n",
    "\n",
    "thirty_and_over = age_filter(df, 30, df['age'].max())\n",
    "\n",
    "# print(df['age'].max())\n",
    "\n",
    "print(thirty_and_over.head())"
   ]
  }
 ],
 "metadata": {
  "kernelspec": {
   "display_name": "base",
   "language": "python",
   "name": "python3"
  },
  "language_info": {
   "codemirror_mode": {
    "name": "ipython",
    "version": 3
   },
   "file_extension": ".py",
   "mimetype": "text/x-python",
   "name": "python",
   "nbconvert_exporter": "python",
   "pygments_lexer": "ipython3",
   "version": "3.11.7"
  }
 },
 "nbformat": 4,
 "nbformat_minor": 2
}
